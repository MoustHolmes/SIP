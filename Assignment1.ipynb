{
 "cells": [
  {
   "cell_type": "code",
   "execution_count": 3,
   "metadata": {},
   "outputs": [],
   "source": [
    "import numpy as np\n",
    "import scipy as sp\n",
    "from numpy import load \n",
    "from numpy import genfromtxt # Henter data fx:f = genfromtxt('DataHandIn1.csv', delimiter=',')[1:,0] *10**3 #i Hz\n",
    "import matplotlib.pyplot as plt\n",
    "from matplotlib.pyplot import imshow #kan også skrives som plt.imshow istedet for at hente den.\n",
    "from pylab import ginput\n",
    "from skimage.io import imread, imsave\n",
    "from matplotlib.pyplot import axis, imshow, show\n",
    "from matplotlib.pyplot import imshow, show, subplot, title"
   ]
  },
  {
   "cell_type": "markdown",
   "metadata": {},
   "source": [
    "## Pixel-wise contrast enhancement"
   ]
  },
  {
   "cell_type": "markdown",
   "metadata": {},
   "source": [
    "### 1.1\n",
    "\n",
    "Write your own Python function that implements the gamma transform of a gray scale image. Illustrate the function by applying it to an image of your choice. Try different values of gamma and notice how the image details become more or less visible.\n",
    "Deliverables: Include your function as a code snippet in the report, a figure illustrating your results, and a comment about the effect of changing gamma.\n"
   ]
  },
  {
   "cell_type": "code",
   "execution_count": null,
   "metadata": {},
   "outputs": [],
   "source": [
    "def gamma():\n",
    "    "
   ]
  }
 ],
 "metadata": {
  "kernelspec": {
   "display_name": "Python 3",
   "language": "python",
   "name": "python3"
  },
  "language_info": {
   "codemirror_mode": {
    "name": "ipython",
    "version": 3
   },
   "file_extension": ".py",
   "mimetype": "text/x-python",
   "name": "python",
   "nbconvert_exporter": "python",
   "pygments_lexer": "ipython3",
   "version": "3.8.5"
  }
 },
 "nbformat": 4,
 "nbformat_minor": 4
}
